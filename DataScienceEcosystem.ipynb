{
 "cells": [
  {
   "cell_type": "markdown",
   "id": "cc672c29-674a-48da-8816-a7c4a35b3dfe",
   "metadata": {},
   "source": [
    "<h1>Data Science Tools and Ecosystem<h1>\n",
    "<p>In this notebook, Data Science Tools and Ecosystem are summarized.<p>"
   ]
  },
  {
   "cell_type": "code",
   "execution_count": null,
   "id": "c11c28a9-52a4-4a9d-845a-a66417f81598",
   "metadata": {},
   "outputs": [],
   "source": [
    "<p>Some of the popular languages that Data Scientists use are:</p>\n",
    "<ol>\n",
    "<li> Python</li>\n",
    "<li> R language</li>\n",
    "<li> SQL queries</li>\n",
    "</ol>    "
   ]
  },
  {
   "cell_type": "code",
   "execution_count": null,
   "id": "b54312be-7b4b-4b7a-a357-79e759feed54",
   "metadata": {},
   "outputs": [],
   "source": [
    "<p>Some of the commonly used libraries used by Data Scientists include:</p>\n",
    "<ol>\n",
    "<li> Pandas</li>\n",
    "<li> Numpy</li>\n",
    "<li> Matplotlib</li>\n",
    "</ol>    "
   ]
  },
  {
   "cell_type": "code",
   "execution_count": null,
   "id": "3b7b528c-76d2-4ec8-9909-f0a2ce713790",
   "metadata": {},
   "outputs": [],
   "source": [
    "| Data Science Tools       |\n",
    "|--------------------------|\n",
    "| Jupyter Notebook          |\n",
    "| Rstudio                   |\n",
    "| Hadoop Ecosystem     |\n"
   ]
  },
  {
   "cell_type": "code",
   "execution_count": null,
   "id": "d6b1970b-2137-4e46-85e9-5e81f9017e14",
   "metadata": {},
   "outputs": [],
   "source": [
    "<h3>Below are a few examples of evaluating arithmetic expressions in Python</h3>"
   ]
  },
  {
   "cell_type": "code",
   "execution_count": null,
   "id": "abce1817-40bb-4ec3-8c2e-8fbaf2a71269",
   "metadata": {},
   "outputs": [],
   "source": [
    "# This a simple arithmetic expression to mutiply then add integers\n",
    "print((3*4)+5)"
   ]
  },
  {
   "cell_type": "code",
   "execution_count": null,
   "id": "27428a05-58f1-47fc-96b1-07d6e4ff1f84",
   "metadata": {},
   "outputs": [],
   "source": [
    "# This will convert 200 minutes to hours by diving by 60\n",
    "print(200/60,\" hours\")"
   ]
  },
  {
   "cell_type": "code",
   "execution_count": null,
   "id": "2afa63c6-22ed-4448-928b-f3a096839fce",
   "metadata": {},
   "outputs": [],
   "source": [
    "**Objectives:**\n",
    "\n",
    "- List popular languages for Data Science\n",
    "- Summarization of Data Science tools and Ecosystem\n",
    "- The commonly used libraries in Data Science\n",
    "- The role of data science tools in development environments\n",
    "- Various Data Science tools\n",
    "\n"
   ]
  },
  {
   "cell_type": "code",
   "execution_count": null,
   "id": "ecd75a68-2d42-4fce-9661-2de954f4ef4f",
   "metadata": {},
   "outputs": [],
   "source": [
    "<h2>Author</h2>\n",
    "<p>Shiva Sai Pavan Inja</p>"
   ]
  }
 ],
 "metadata": {
  "kernelspec": {
   "display_name": "Python 3 (ipykernel)",
   "language": "python",
   "name": "python3"
  },
  "language_info": {
   "codemirror_mode": {
    "name": "ipython",
    "version": 3
   },
   "file_extension": ".py",
   "mimetype": "text/x-python",
   "name": "python",
   "nbconvert_exporter": "python",
   "pygments_lexer": "ipython3",
   "version": "3.12.4"
  }
 },
 "nbformat": 4,
 "nbformat_minor": 5
}
